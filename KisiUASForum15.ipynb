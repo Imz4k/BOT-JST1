{
  "nbformat": 4,
  "nbformat_minor": 0,
  "metadata": {
    "colab": {
      "name": "KisiUASForum15.ipynb",
      "provenance": [],
      "collapsed_sections": [],
      "include_colab_link": true
    },
    "kernelspec": {
      "name": "python3",
      "display_name": "Python 3"
    },
    "language_info": {
      "name": "python"
    }
  },
  "cells": [
    {
      "cell_type": "markdown",
      "metadata": {
        "id": "view-in-github",
        "colab_type": "text"
      },
      "source": [
        "<a href=\"https://colab.research.google.com/github/Imz4k/BOT-JST1/blob/main/KisiUASForum15.ipynb\" target=\"_parent\"><img src=\"https://colab.research.google.com/assets/colab-badge.svg\" alt=\"Open In Colab\"/></a>"
      ]
    },
    {
      "cell_type": "code",
      "metadata": {
        "id": "cvY2wW2ZmuMo"
      },
      "source": [
        "import tensorflow as tf\n",
        "import time\n",
        "import numpy as np\n",
        "\n",
        "from datetime import datetime\n",
        "from numpy import genfromtxt\n",
        "import sys"
      ],
      "execution_count": 1,
      "outputs": []
    },
    {
      "cell_type": "code",
      "metadata": {
        "id": "6P6D9AIoemJW"
      },
      "source": [
        "epoch = 5000\n",
        "batch_size = 16"
      ],
      "execution_count": 2,
      "outputs": []
    },
    {
      "cell_type": "code",
      "metadata": {
        "id": "K7AgRGNkwL-5"
      },
      "source": [
        "import time\n",
        "class TimerError(Exception):\n",
        "  \"\"\"A custom exception used to report errors in use of timer class\"\"\"\n",
        " \n",
        "class Timer:\n",
        "    def __init__(self):\n",
        "        self._start_time = None\n",
        " \n",
        "    def start(self):\n",
        "        \"\"\"Start a new timer\"\"\"\n",
        "        if self._start_time is not None:\n",
        "            raise TimeError(f\"Timer is running. Use .stop() to stop it\")\n",
        " \n",
        "        self._start_time = time.perf_counter()\n",
        " \n",
        "    def stop(self):\n",
        "        \"\"\"Stop the timer, and report the elapsed time\"\"\"\n",
        "        if self._start_time is None:\n",
        "            raise TimerError(f\"Timer is not running. Use .start() to start it\")\n",
        " \n",
        "        elapsed_time = time.perf_counter() - self._start_time\n",
        "        self._start_time = None\n",
        "        print(f\"Executed time: {elapsed.time:0.4f} seconds\")\n",
        "      "
      ],
      "execution_count": 3,
      "outputs": []
    },
    {
      "cell_type": "code",
      "metadata": {
        "colab": {
          "base_uri": "https://localhost:8080/"
        },
        "id": "QOhrRtTZ52Il",
        "outputId": "39620d2e-b872-4301-9593-45a3ae7b494d"
      },
      "source": [
        "A = np.array([])\n",
        "B = np.array([])\n",
        " \n",
        "df = genfromtxt('dataset_delta_robot.csv',delimiter=',')\n",
        "for i in range(len(df)):\n",
        "  if(i>0):\n",
        " \n",
        "    A = np.append(A, [ df[i][2], df[i][3] ]),\n",
        "    B = np.append(B, [ df[i][4], df[i][5], df[i][6] ])\n",
        " \n",
        "x_train = np.reshape(A, (-1, 2))\n",
        "y_train = np.reshape(B, (-1, 3))\n",
        " \n",
        "print(\"data lenght: \", len(x_train))"
      ],
      "execution_count": 4,
      "outputs": [
        {
          "output_type": "stream",
          "text": [
            "data lenght:  1000\n"
          ],
          "name": "stdout"
        }
      ]
    },
    {
      "cell_type": "code",
      "metadata": {
        "id": "9H92167E8DMN"
      },
      "source": [
        "model = tf.keras.models.Sequential([\n",
        "  tf.keras.layers.Dense(2, input_dim=2, activation= tf.nn.leaky_relu),\n",
        "  tf.keras.layers.Dropout(0.2),\n",
        " \n",
        "  tf.keras.layers.Dense(8, activation= tf.nn.leaky_relu),\n",
        "  tf.keras.layers.Dropout(0.2),\n",
        "  tf.keras.layers.Dense(64, activation= tf.nn.leaky_relu),\n",
        "  tf.keras.layers.Dropout(0.2),\n",
        "  tf.keras.layers.Dense(8, activation= tf.nn.leaky_relu),\n",
        "  tf.keras.layers.Dropout(0.2),\n",
        " \n",
        "  tf.keras.layers.Dense(3, activation= tf.nn.leaky_relu) #softmax\n",
        "])"
      ],
      "execution_count": 5,
      "outputs": []
    },
    {
      "cell_type": "code",
      "metadata": {
        "id": "A7jhl_mN9Odf"
      },
      "source": [
        "model.compile(\n",
        "    optimizer = 'adam',\n",
        "    loss = \"mse\", #sparse_categorical_crossentropy\n",
        "    metrics = ['accuracy']\n",
        ")"
      ],
      "execution_count": 6,
      "outputs": []
    },
    {
      "cell_type": "code",
      "metadata": {
        "id": "_VLJMNw_97Hx"
      },
      "source": [
        "# Using Tensorboard\n",
        " \n",
        "%load_ext tensorboard\n",
        " \n",
        "logdir = \"logs/scalars/\" + datetime.now().strftime(\"%Y%m%d-%H%M%S\")\n",
        "tb_callback = tf.keras.callbacks.TensorBoard(log_dir = logdir)"
      ],
      "execution_count": 7,
      "outputs": []
    },
    {
      "cell_type": "code",
      "metadata": {
        "colab": {
          "base_uri": "https://localhost:8080/"
        },
        "id": "X7a9SLZChShH",
        "outputId": "2d2433c2-0bb9-4d4d-c4e3-6928b1aa247b"
      },
      "source": [
        "%%time\n",
        "train = model.fit(\n",
        "    x_train,\n",
        "    y_train,\n",
        "    epochs = epoch,\n",
        "    verbose = 0,\n",
        "    batch_size = batch_size,\n",
        "    validation_split = 0.3\n",
        ")"
      ],
      "execution_count": 8,
      "outputs": [
        {
          "output_type": "stream",
          "text": [
            "CPU times: user 8min 18s, sys: 38.8 s, total: 8min 57s\n",
            "Wall time: 7min\n"
          ],
          "name": "stdout"
        }
      ]
    },
    {
      "cell_type": "code",
      "metadata": {
        "colab": {
          "base_uri": "https://localhost:8080/"
        },
        "id": "A5E43Oh4RDCu",
        "outputId": "28269721-2ed9-4411-9c9e-6b0d7b3a564c"
      },
      "source": [
        "print(\"num of epoch: \",epoch)\n",
        "print(\"AVG Training Accuracy\", np.average(train.history['accuracy']))\n",
        "print(\"AVG Training Loss\", np.average(train.history['loss']))\n",
        "print(\"Data Size\", sys.getsizeof(df))"
      ],
      "execution_count": 9,
      "outputs": [
        {
          "output_type": "stream",
          "text": [
            "num of epoch:  5000\n",
            "AVG Training Accuracy 0.6802471428394318\n",
            "AVG Training Loss 235.68308223571776\n",
            "Data Size 104216\n"
          ],
          "name": "stdout"
        }
      ]
    },
    {
      "cell_type": "code",
      "metadata": {
        "id": "YKJsvJoYAI71",
        "colab": {
          "base_uri": "https://localhost:8080/",
          "height": 838
        },
        "outputId": "d6a2f42f-5266-4b03-a15f-1555b1f2261e"
      },
      "source": [
        "%tensorboard --logdir logs/scalars"
      ],
      "execution_count": 10,
      "outputs": [
        {
          "output_type": "display_data",
          "data": {
            "text/plain": [
              "Reusing TensorBoard on port 6006 (pid 530), started 0:55:38 ago. (Use '!kill 530' to kill it.)"
            ]
          },
          "metadata": {
            "tags": []
          }
        },
        {
          "output_type": "display_data",
          "data": {
            "application/javascript": [
              "\n",
              "        (async () => {\n",
              "            const url = new URL(await google.colab.kernel.proxyPort(6006, {'cache': true}));\n",
              "            url.searchParams.set('tensorboardColab', 'true');\n",
              "            const iframe = document.createElement('iframe');\n",
              "            iframe.src = url;\n",
              "            iframe.setAttribute('width', '100%');\n",
              "            iframe.setAttribute('height', '800');\n",
              "            iframe.setAttribute('frameborder', 0);\n",
              "            document.body.appendChild(iframe);\n",
              "        })();\n",
              "    "
            ],
            "text/plain": [
              "<IPython.core.display.Javascript object>"
            ]
          },
          "metadata": {
            "tags": []
          }
        }
      ]
    },
    {
      "cell_type": "code",
      "metadata": {
        "id": "Ggznj4ukAlDg",
        "colab": {
          "base_uri": "https://localhost:8080/"
        },
        "outputId": "71239d89-9d6f-4b66-b616-20f39a4e1657"
      },
      "source": [
        "# model.evaluate\n",
        "(\n",
        "      x_train[:901],\n",
        "      y_train[:901]\n",
        ")"
      ],
      "execution_count": 11,
      "outputs": [
        {
          "output_type": "execute_result",
          "data": {
            "text/plain": [
              "(array([[ 1.00e+01, -3.28e+02],\n",
              "        [ 1.00e+01, -3.28e+02],\n",
              "        [ 1.00e+01, -3.28e+02],\n",
              "        ...,\n",
              "        [-1.00e-01, -2.55e+02],\n",
              "        [-1.00e-01, -2.55e+02],\n",
              "        [-1.00e-01, -2.55e+02]]), array([[ 70.379,  77.206,  53.967],\n",
              "        [ 70.213,  76.922,  53.965],\n",
              "        [ 70.05 ,  76.641,  53.963],\n",
              "        ...,\n",
              "        [-11.229, -20.398,  -1.933],\n",
              "        [-11.222, -20.403,  -1.914],\n",
              "        [-11.216, -20.409,  -1.894]]))"
            ]
          },
          "metadata": {
            "tags": []
          },
          "execution_count": 11
        }
      ]
    },
    {
      "cell_type": "code",
      "metadata": {
        "id": "D4hglu2AA33j",
        "colab": {
          "base_uri": "https://localhost:8080/"
        },
        "outputId": "83bbb0e7-4224-4de2-9ea6-b76e687f3ab8"
      },
      "source": [
        "# Testing to Predicting\n",
        "pred = np.array([\n",
        "        x_train[901]\n",
        "])\n",
        "\n",
        " # Calculating teh accuracy from its result\n",
        "abs = np.absolute(\n",
        "      np.subtract(\n",
        "      model.predict(pred)[0],\n",
        "      y_train[901]\n",
        "        )\n",
        "      )\n",
        "loss = np.divide(abs, y_train[901])\n",
        "acc = np.absolute(\n",
        "        np.average(1 - loss)\n",
        "      )\n",
        "\n",
        "print('Predictive: ', model.predict(pred)[0])\n",
        "print('Target: ', y_train[901])\n",
        "\n",
        "print(\"AVG Testing Accuracy\", acc)"
      ],
      "execution_count": 12,
      "outputs": [
        {
          "output_type": "stream",
          "text": [
            "Predictive:  [-26.383482 -24.055813 -13.92229 ]\n",
            "Target:  [-11.209 -20.415  -1.875]\n",
            "AVG Testing Accuracy 3.652445981234738\n"
          ],
          "name": "stdout"
        }
      ]
    }
  ]
}